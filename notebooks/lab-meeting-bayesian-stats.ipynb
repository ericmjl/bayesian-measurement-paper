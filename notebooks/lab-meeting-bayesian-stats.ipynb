{
 "cells": [
  {
   "cell_type": "code",
   "execution_count": 2,
   "metadata": {
    "collapsed": true,
    "nbpresent": {
     "id": "ef88d277-0ff2-4b79-a740-145e141484bd"
    }
   },
   "outputs": [],
   "source": [
    "import pandas as pd\n",
    "%matplotlib inline\n",
    "import pymc3 as pm\n",
    "import numpy as np\n",
    "import matplotlib.pyplot as plt\n",
    "import seaborn as sns\n",
    "\n",
    "# sns.set_context('poster')\n",
    "sns.set_style('white')"
   ]
  },
  {
   "cell_type": "markdown",
   "metadata": {
    "nbpresent": {
     "id": "514eb313-e6d6-4765-9cee-6aee821f8b76"
    }
   },
   "source": [
    "# Statistics in Measurement\n",
    "\n",
    "Questions to answer:\n",
    "\n",
    "1. What is the interpretation of a 95% confidence interval?\n",
    "1. What is the interpretation of a 95% highest posterior density interval?\n",
    "1. How are they related?\n",
    "1. Can we be more interpretable?"
   ]
  },
  {
   "cell_type": "markdown",
   "metadata": {
    "nbpresent": {
     "id": "f09afb09-da84-4847-ab67-fdba2e19ce99"
    }
   },
   "source": [
    "# References\n",
    "\n",
    "1. John Kruschke: [Precision is the Goal](https://www.youtube.com/watch?v=lh5btlAvrLs)\n",
    "1. John Kruschke: [Bayesian Estimation Supersedes the t-Test](http://www.indiana.edu/~kruschke/BEST/)\n",
    "1. PyMC3 implementation: [Bayesian Estimation Supersedes the t-Test](https://pymc-devs.github.io/pymc3/notebooks/BEST.html)\n",
    "\n",
    "This work here extends John Kruschke's implementation."
   ]
  },
  {
   "cell_type": "code",
   "execution_count": 3,
   "metadata": {
    "collapsed": false,
    "nbpresent": {
     "id": "967eb43e-c19e-4f6d-90c4-5dd47b20942f"
    }
   },
   "outputs": [
    {
     "name": "stdout",
     "output_type": "stream",
     "text": [
      "[0, 1, 2, 3, 4, 5, 6, 7, 8, 9, 10, 11, 12]\n"
     ]
    }
   ],
   "source": [
    "baseline_name = 'Water'\n",
    "\n",
    "data = pd.read_csv('bandoro-microbiome.csv')\n",
    "\n",
    "# Encode the \"Sample\" column with indices.\n",
    "sample_names = dict()\n",
    "for i, name in enumerate(sorted(np.unique(data['Sample'].values))):\n",
    "    sample_names[name] = i\n",
    "\n",
    "for name, i in sample_names.items():\n",
    "    data['Indices'] = data['Sample'].apply(lambda x: sample_names[x])\n",
    "    \n",
    "data = data.sort_values(by='Indices')\n",
    "data = data.reset_index(drop=True)\n",
    "    \n",
    "baseline_idx = sample_names[baseline_name]\n",
    "indices = list(set(data['Indices']))\n",
    "indices.remove(baseline_idx)\n",
    "print(indices)"
   ]
  },
  {
   "cell_type": "code",
   "execution_count": 4,
   "metadata": {
    "collapsed": false,
    "nbpresent": {
     "id": "40d776f9-9a31-43fd-ad47-946e0280ee99"
    }
   },
   "outputs": [
    {
     "data": {
      "text/html": [
       "<div>\n",
       "<table border=\"1\" class=\"dataframe\">\n",
       "  <thead>\n",
       "    <tr style=\"text-align: right;\">\n",
       "      <th></th>\n",
       "      <th>Date</th>\n",
       "      <th>Sample</th>\n",
       "      <th>% GFP</th>\n",
       "      <th>Normalized % GFP</th>\n",
       "      <th>Replicate</th>\n",
       "      <th>Indices</th>\n",
       "    </tr>\n",
       "  </thead>\n",
       "  <tbody>\n",
       "    <tr>\n",
       "      <th>36</th>\n",
       "      <td>09.03.2016</td>\n",
       "      <td>Parabacteroides distastonis</td>\n",
       "      <td>9.06</td>\n",
       "      <td>55.925926</td>\n",
       "      <td>2</td>\n",
       "      <td>9</td>\n",
       "    </tr>\n",
       "    <tr>\n",
       "      <th>37</th>\n",
       "      <td>08.31.2016</td>\n",
       "      <td>Parabacteroides distastonis</td>\n",
       "      <td>20.20</td>\n",
       "      <td>84.342380</td>\n",
       "      <td>3</td>\n",
       "      <td>9</td>\n",
       "    </tr>\n",
       "    <tr>\n",
       "      <th>38</th>\n",
       "      <td>08.31.2016</td>\n",
       "      <td>Parabacteroides distastonis</td>\n",
       "      <td>20.40</td>\n",
       "      <td>85.177453</td>\n",
       "      <td>4</td>\n",
       "      <td>9</td>\n",
       "    </tr>\n",
       "    <tr>\n",
       "      <th>39</th>\n",
       "      <td>09.03.2016</td>\n",
       "      <td>Parabacteroides distastonis</td>\n",
       "      <td>8.84</td>\n",
       "      <td>54.567901</td>\n",
       "      <td>1</td>\n",
       "      <td>9</td>\n",
       "    </tr>\n",
       "    <tr>\n",
       "      <th>40</th>\n",
       "      <td>09.03.2016</td>\n",
       "      <td>Pseudomonas aeruginosa</td>\n",
       "      <td>5.49</td>\n",
       "      <td>33.888889</td>\n",
       "      <td>2</td>\n",
       "      <td>10</td>\n",
       "    </tr>\n",
       "    <tr>\n",
       "      <th>41</th>\n",
       "      <td>08.31.2016</td>\n",
       "      <td>Pseudomonas aeruginosa</td>\n",
       "      <td>11.60</td>\n",
       "      <td>48.434238</td>\n",
       "      <td>3</td>\n",
       "      <td>10</td>\n",
       "    </tr>\n",
       "    <tr>\n",
       "      <th>42</th>\n",
       "      <td>08.31.2016</td>\n",
       "      <td>Pseudomonas aeruginosa</td>\n",
       "      <td>13.30</td>\n",
       "      <td>55.532359</td>\n",
       "      <td>4</td>\n",
       "      <td>10</td>\n",
       "    </tr>\n",
       "    <tr>\n",
       "      <th>43</th>\n",
       "      <td>09.03.2016</td>\n",
       "      <td>Pseudomonas aeruginosa</td>\n",
       "      <td>5.73</td>\n",
       "      <td>35.370370</td>\n",
       "      <td>1</td>\n",
       "      <td>10</td>\n",
       "    </tr>\n",
       "    <tr>\n",
       "      <th>44</th>\n",
       "      <td>08.31.2016</td>\n",
       "      <td>Rumincoccus obeum</td>\n",
       "      <td>14.20</td>\n",
       "      <td>59.290188</td>\n",
       "      <td>4</td>\n",
       "      <td>11</td>\n",
       "    </tr>\n",
       "    <tr>\n",
       "      <th>45</th>\n",
       "      <td>08.31.2016</td>\n",
       "      <td>Rumincoccus obeum</td>\n",
       "      <td>15.10</td>\n",
       "      <td>63.048017</td>\n",
       "      <td>3</td>\n",
       "      <td>11</td>\n",
       "    </tr>\n",
       "    <tr>\n",
       "      <th>46</th>\n",
       "      <td>09.03.2016</td>\n",
       "      <td>Rumincoccus obeum</td>\n",
       "      <td>7.73</td>\n",
       "      <td>47.716049</td>\n",
       "      <td>2</td>\n",
       "      <td>11</td>\n",
       "    </tr>\n",
       "    <tr>\n",
       "      <th>47</th>\n",
       "      <td>09.03.2016</td>\n",
       "      <td>Rumincoccus obeum</td>\n",
       "      <td>9.59</td>\n",
       "      <td>59.197531</td>\n",
       "      <td>1</td>\n",
       "      <td>11</td>\n",
       "    </tr>\n",
       "    <tr>\n",
       "      <th>48</th>\n",
       "      <td>08.31.2016</td>\n",
       "      <td>Salmonella typhimurium</td>\n",
       "      <td>5.82</td>\n",
       "      <td>24.300626</td>\n",
       "      <td>4</td>\n",
       "      <td>12</td>\n",
       "    </tr>\n",
       "    <tr>\n",
       "      <th>49</th>\n",
       "      <td>08.31.2016</td>\n",
       "      <td>Salmonella typhimurium</td>\n",
       "      <td>6.49</td>\n",
       "      <td>27.098121</td>\n",
       "      <td>3</td>\n",
       "      <td>12</td>\n",
       "    </tr>\n",
       "    <tr>\n",
       "      <th>50</th>\n",
       "      <td>09.03.2016</td>\n",
       "      <td>Salmonella typhimurium</td>\n",
       "      <td>2.01</td>\n",
       "      <td>12.407407</td>\n",
       "      <td>2</td>\n",
       "      <td>12</td>\n",
       "    </tr>\n",
       "    <tr>\n",
       "      <th>51</th>\n",
       "      <td>09.03.2016</td>\n",
       "      <td>Salmonella typhimurium</td>\n",
       "      <td>1.84</td>\n",
       "      <td>11.358025</td>\n",
       "      <td>1</td>\n",
       "      <td>12</td>\n",
       "    </tr>\n",
       "    <tr>\n",
       "      <th>52</th>\n",
       "      <td>08.31.2016</td>\n",
       "      <td>Water</td>\n",
       "      <td>21.90</td>\n",
       "      <td>91.440501</td>\n",
       "      <td>4</td>\n",
       "      <td>13</td>\n",
       "    </tr>\n",
       "    <tr>\n",
       "      <th>53</th>\n",
       "      <td>08.31.2016</td>\n",
       "      <td>Water</td>\n",
       "      <td>26.00</td>\n",
       "      <td>108.559499</td>\n",
       "      <td>3</td>\n",
       "      <td>13</td>\n",
       "    </tr>\n",
       "    <tr>\n",
       "      <th>54</th>\n",
       "      <td>09.03.2016</td>\n",
       "      <td>Water</td>\n",
       "      <td>16.50</td>\n",
       "      <td>101.851852</td>\n",
       "      <td>2</td>\n",
       "      <td>13</td>\n",
       "    </tr>\n",
       "    <tr>\n",
       "      <th>55</th>\n",
       "      <td>09.03.2016</td>\n",
       "      <td>Water</td>\n",
       "      <td>15.90</td>\n",
       "      <td>98.148148</td>\n",
       "      <td>1</td>\n",
       "      <td>13</td>\n",
       "    </tr>\n",
       "  </tbody>\n",
       "</table>\n",
       "</div>"
      ],
      "text/plain": [
       "          Date                        Sample  % GFP  Normalized % GFP  \\\n",
       "36  09.03.2016  Parabacteroides distastonis    9.06         55.925926   \n",
       "37  08.31.2016  Parabacteroides distastonis   20.20         84.342380   \n",
       "38  08.31.2016  Parabacteroides distastonis   20.40         85.177453   \n",
       "39  09.03.2016  Parabacteroides distastonis    8.84         54.567901   \n",
       "40  09.03.2016       Pseudomonas aeruginosa    5.49         33.888889   \n",
       "41  08.31.2016       Pseudomonas aeruginosa   11.60         48.434238   \n",
       "42  08.31.2016       Pseudomonas aeruginosa   13.30         55.532359   \n",
       "43  09.03.2016       Pseudomonas aeruginosa    5.73         35.370370   \n",
       "44  08.31.2016            Rumincoccus obeum   14.20         59.290188   \n",
       "45  08.31.2016            Rumincoccus obeum   15.10         63.048017   \n",
       "46  09.03.2016            Rumincoccus obeum    7.73         47.716049   \n",
       "47  09.03.2016            Rumincoccus obeum    9.59         59.197531   \n",
       "48  08.31.2016       Salmonella typhimurium    5.82         24.300626   \n",
       "49  08.31.2016       Salmonella typhimurium    6.49         27.098121   \n",
       "50  09.03.2016       Salmonella typhimurium    2.01         12.407407   \n",
       "51  09.03.2016       Salmonella typhimurium    1.84         11.358025   \n",
       "52  08.31.2016                         Water  21.90         91.440501   \n",
       "53  08.31.2016                         Water  26.00        108.559499   \n",
       "54  09.03.2016                         Water  16.50        101.851852   \n",
       "55  09.03.2016                         Water  15.90         98.148148   \n",
       "\n",
       "    Replicate  Indices  \n",
       "36          2        9  \n",
       "37          3        9  \n",
       "38          4        9  \n",
       "39          1        9  \n",
       "40          2       10  \n",
       "41          3       10  \n",
       "42          4       10  \n",
       "43          1       10  \n",
       "44          4       11  \n",
       "45          3       11  \n",
       "46          2       11  \n",
       "47          1       11  \n",
       "48          4       12  \n",
       "49          3       12  \n",
       "50          2       12  \n",
       "51          1       12  \n",
       "52          4       13  \n",
       "53          3       13  \n",
       "54          2       13  \n",
       "55          1       13  "
      ]
     },
     "execution_count": 4,
     "metadata": {},
     "output_type": "execute_result"
    }
   ],
   "source": [
    "data.tail(20)"
   ]
  },
  {
   "cell_type": "code",
   "execution_count": 5,
   "metadata": {
    "collapsed": false,
    "nbpresent": {
     "id": "962d7a7c-9dc5-4157-bbaf-c76f72ac1ef0"
    }
   },
   "outputs": [
    {
     "data": {
      "text/html": [
       "<div>\n",
       "<table border=\"1\" class=\"dataframe\">\n",
       "  <thead>\n",
       "    <tr style=\"text-align: right;\">\n",
       "      <th></th>\n",
       "      <th>mean</th>\n",
       "      <th>std</th>\n",
       "      <th>3sd</th>\n",
       "      <th>sem</th>\n",
       "      <th>95ci</th>\n",
       "      <th>range</th>\n",
       "    </tr>\n",
       "    <tr>\n",
       "      <th>Sample</th>\n",
       "      <th></th>\n",
       "      <th></th>\n",
       "      <th></th>\n",
       "      <th></th>\n",
       "      <th></th>\n",
       "      <th></th>\n",
       "    </tr>\n",
       "  </thead>\n",
       "  <tbody>\n",
       "    <tr>\n",
       "      <th>Akkermansia muciniphilia</th>\n",
       "      <td>78.277791</td>\n",
       "      <td>20.996487</td>\n",
       "      <td>62.989461</td>\n",
       "      <td>10.498243</td>\n",
       "      <td>20.576557</td>\n",
       "      <td>22.340782</td>\n",
       "    </tr>\n",
       "    <tr>\n",
       "      <th>Bacteroides fragilis</th>\n",
       "      <td>45.460869</td>\n",
       "      <td>3.525560</td>\n",
       "      <td>10.576681</td>\n",
       "      <td>1.762780</td>\n",
       "      <td>3.455049</td>\n",
       "      <td>3.757829</td>\n",
       "    </tr>\n",
       "    <tr>\n",
       "      <th>Bacteroides ovatus</th>\n",
       "      <td>87.525871</td>\n",
       "      <td>52.880332</td>\n",
       "      <td>158.640996</td>\n",
       "      <td>26.440166</td>\n",
       "      <td>51.822725</td>\n",
       "      <td>51.990644</td>\n",
       "    </tr>\n",
       "    <tr>\n",
       "      <th>Bacteroides thetaiotaomicron</th>\n",
       "      <td>66.386376</td>\n",
       "      <td>21.101564</td>\n",
       "      <td>63.304691</td>\n",
       "      <td>10.550782</td>\n",
       "      <td>20.679532</td>\n",
       "      <td>20.933400</td>\n",
       "    </tr>\n",
       "    <tr>\n",
       "      <th>Bacteroides vulgatus</th>\n",
       "      <td>56.403161</td>\n",
       "      <td>22.001431</td>\n",
       "      <td>66.004293</td>\n",
       "      <td>11.000716</td>\n",
       "      <td>21.561402</td>\n",
       "      <td>23.505116</td>\n",
       "    </tr>\n",
       "    <tr>\n",
       "      <th>Clostridium scindens</th>\n",
       "      <td>68.996463</td>\n",
       "      <td>25.432097</td>\n",
       "      <td>76.296291</td>\n",
       "      <td>12.716048</td>\n",
       "      <td>24.923455</td>\n",
       "      <td>30.555556</td>\n",
       "    </tr>\n",
       "    <tr>\n",
       "      <th>Escherichia coli BC15</th>\n",
       "      <td>35.287830</td>\n",
       "      <td>13.841571</td>\n",
       "      <td>41.524714</td>\n",
       "      <td>6.920786</td>\n",
       "      <td>13.564740</td>\n",
       "      <td>16.557386</td>\n",
       "    </tr>\n",
       "    <tr>\n",
       "      <th>Escherichia coli K12</th>\n",
       "      <td>55.125068</td>\n",
       "      <td>35.645586</td>\n",
       "      <td>106.936758</td>\n",
       "      <td>17.822793</td>\n",
       "      <td>34.932674</td>\n",
       "      <td>36.405062</td>\n",
       "    </tr>\n",
       "    <tr>\n",
       "      <th>Eubacterium rectale</th>\n",
       "      <td>66.034047</td>\n",
       "      <td>27.507662</td>\n",
       "      <td>82.522986</td>\n",
       "      <td>13.753831</td>\n",
       "      <td>26.957509</td>\n",
       "      <td>25.675404</td>\n",
       "    </tr>\n",
       "    <tr>\n",
       "      <th>Parabacteroides distastonis</th>\n",
       "      <td>70.003415</td>\n",
       "      <td>34.103531</td>\n",
       "      <td>102.310594</td>\n",
       "      <td>17.051766</td>\n",
       "      <td>33.421461</td>\n",
       "      <td>30.609552</td>\n",
       "    </tr>\n",
       "    <tr>\n",
       "      <th>Pseudomonas aeruginosa</th>\n",
       "      <td>43.306464</td>\n",
       "      <td>20.894621</td>\n",
       "      <td>62.683862</td>\n",
       "      <td>10.447310</td>\n",
       "      <td>20.476728</td>\n",
       "      <td>21.643470</td>\n",
       "    </tr>\n",
       "    <tr>\n",
       "      <th>Rumincoccus obeum</th>\n",
       "      <td>57.312946</td>\n",
       "      <td>13.289224</td>\n",
       "      <td>39.867672</td>\n",
       "      <td>6.644612</td>\n",
       "      <td>13.023440</td>\n",
       "      <td>15.331967</td>\n",
       "    </tr>\n",
       "    <tr>\n",
       "      <th>Salmonella typhimurium</th>\n",
       "      <td>18.791045</td>\n",
       "      <td>16.139542</td>\n",
       "      <td>48.418627</td>\n",
       "      <td>8.069771</td>\n",
       "      <td>15.816751</td>\n",
       "      <td>15.740096</td>\n",
       "    </tr>\n",
       "    <tr>\n",
       "      <th>Water</th>\n",
       "      <td>100.000000</td>\n",
       "      <td>14.300991</td>\n",
       "      <td>42.902973</td>\n",
       "      <td>7.150495</td>\n",
       "      <td>14.014971</td>\n",
       "      <td>17.118998</td>\n",
       "    </tr>\n",
       "  </tbody>\n",
       "</table>\n",
       "</div>"
      ],
      "text/plain": [
       "                                     mean        std         3sd        sem  \\\n",
       "Sample                                                                        \n",
       "Akkermansia muciniphilia        78.277791  20.996487   62.989461  10.498243   \n",
       "Bacteroides fragilis            45.460869   3.525560   10.576681   1.762780   \n",
       "Bacteroides ovatus              87.525871  52.880332  158.640996  26.440166   \n",
       "Bacteroides thetaiotaomicron    66.386376  21.101564   63.304691  10.550782   \n",
       "Bacteroides vulgatus            56.403161  22.001431   66.004293  11.000716   \n",
       "Clostridium scindens            68.996463  25.432097   76.296291  12.716048   \n",
       "Escherichia coli BC15           35.287830  13.841571   41.524714   6.920786   \n",
       "Escherichia coli K12            55.125068  35.645586  106.936758  17.822793   \n",
       "Eubacterium rectale             66.034047  27.507662   82.522986  13.753831   \n",
       "Parabacteroides distastonis     70.003415  34.103531  102.310594  17.051766   \n",
       "Pseudomonas aeruginosa          43.306464  20.894621   62.683862  10.447310   \n",
       "Rumincoccus obeum               57.312946  13.289224   39.867672   6.644612   \n",
       "Salmonella typhimurium          18.791045  16.139542   48.418627   8.069771   \n",
       "Water                          100.000000  14.300991   42.902973   7.150495   \n",
       "\n",
       "                                    95ci      range  \n",
       "Sample                                               \n",
       "Akkermansia muciniphilia       20.576557  22.340782  \n",
       "Bacteroides fragilis            3.455049   3.757829  \n",
       "Bacteroides ovatus             51.822725  51.990644  \n",
       "Bacteroides thetaiotaomicron   20.679532  20.933400  \n",
       "Bacteroides vulgatus           21.561402  23.505116  \n",
       "Clostridium scindens           24.923455  30.555556  \n",
       "Escherichia coli BC15          13.564740  16.557386  \n",
       "Escherichia coli K12           34.932674  36.405062  \n",
       "Eubacterium rectale            26.957509  25.675404  \n",
       "Parabacteroides distastonis    33.421461  30.609552  \n",
       "Pseudomonas aeruginosa         20.476728  21.643470  \n",
       "Rumincoccus obeum              13.023440  15.331967  \n",
       "Salmonella typhimurium         15.816751  15.740096  \n",
       "Water                          14.014971  17.118998  "
      ]
     },
     "execution_count": 5,
     "metadata": {},
     "output_type": "execute_result"
    }
   ],
   "source": [
    "summary_stats = pd.DataFrame()\n",
    "summary_stats['mean'] = data.groupby('Sample').mean()['Normalized % GFP']\n",
    "# We want the total width of the uncertainty measure, so we multiply the stdev by 2.\n",
    "summary_stats['std'] = data.groupby('Sample').std()['Normalized % GFP'] * 2\n",
    "summary_stats['3sd'] = summary_stats['std'] * 3\n",
    "summary_stats['sem'] = summary_stats['std'] / np.sqrt(4)\n",
    "summary_stats['95ci'] = 1.96 * summary_stats['sem']\n",
    "summary_stats['range'] = data.groupby('Sample').max()['Normalized % GFP'] - data.groupby('Sample').min()['Normalized % GFP']\n",
    "summary_stats"
   ]
  },
  {
   "cell_type": "markdown",
   "metadata": {
    "nbpresent": {
     "id": "d68b601e-7108-43e2-bb7b-dc372b96234e"
    }
   },
   "source": [
    "What is the interpretation of the 95% confidence interval?\n",
    "\n",
    "It isn't this:\n",
    "\n",
    "> there's a 95% probability that the true value lies in the confidence interval. \n",
    "\n",
    "This statement is wrong because that isn't what the confidence tells us. Once the measurements are done, the true value is either inside or not; there is no probability. \n",
    "\n",
    "It is this:\n",
    "\n",
    "> if the experiment were to be repeated again 100 times, with the same sample size, but with another random sample, we can expect 95 of them to contain the true population parameter.\n",
    "\n",
    "This isn't particularly helpful or intuitive, even though it's been the guiding rule of statistical analysis of experimental data. Also, where does our computed bounds come into play here?"
   ]
  },
  {
   "cell_type": "markdown",
   "metadata": {
    "nbpresent": {
     "id": "c69c0536-b3dd-4e8e-bd47-3d5d52fe5f89"
    }
   },
   "source": [
    "# Bayesian Thinking\n",
    "\n",
    "By going Bayesian, we can ask about the *credibility* of a parameter that we're estimating."
   ]
  },
  {
   "cell_type": "code",
   "execution_count": 6,
   "metadata": {
    "collapsed": false,
    "nbpresent": {
     "id": "eefd54d0-aadd-42a1-81c0-ebbdf16b5924"
    }
   },
   "outputs": [
    {
     "name": "stderr",
     "output_type": "stream",
     "text": [
      "Applied log-transform to upper and added transformed upper_log_ to model.\n",
      "Applied log-transform to nu_minus_one and added transformed nu_minus_one_log_ to model.\n",
      "Applied interval-transform to fold and added transformed fold_interval_ to model.\n",
      "Applied log-transform to sigma and added transformed sigma_log_ to model.\n"
     ]
    }
   ],
   "source": [
    "with pm.Model() as model:\n",
    "    # Hyperpriors\n",
    "    upper = pm.Exponential('upper', lam=0.05)\n",
    "    # nu_inv = pm.Uniform('nu', lower=1E-10, upper=0.5, shape=len(sample_names))\n",
    "    nu = pm.Exponential('nu_minus_one', 1/29.) + 1\n",
    "\n",
    "    # \"fold\", which is the estimated fold change.\n",
    "    fold = pm.Uniform('fold', lower=1E-10, upper=upper, shape=len(sample_names))\n",
    "\n",
    "    # Assume that data have heteroskedastic (i.e. variable) error but are drawn from the same distribution\n",
    "    # sigma = pm.Gamma('sigma', alpha=1, beta=1, shape=n_genotypes+2)\n",
    "    sigma = pm.HalfCauchy('sigma', beta=1, shape=len(sample_names))\n",
    "\n",
    "    # Model prediction\n",
    "    mu = fold[data['Indices']]\n",
    "    sig = sigma[data['Indices']]\n",
    "    # nu_model = nu[data['Indices']]\n",
    "    \n",
    "    # Data likelihood\n",
    "    like = pm.StudentT('like', nu=nu, mu=mu, sd=sig**-2, observed=data['Normalized % GFP'])    \n",
    "    # like = pm.Normal('like', mu=mu, sd=sig, observed=data['Normalized % GFP'])\n",
    "    \n",
    "    diffs = pm.Deterministic('diffs', fold[indices] - fold[baseline_idx])\n",
    "    s_pooled = pm.Deterministic('s_pooled', np.sqrt((sigma[indices] ** 2 + sigma[baseline_idx] ** 2) / 2))\n",
    "    effect_size = pm.Deterministic('effect_size', diffs / s_pooled)\n",
    "    \n",
    "    # z_factor = pm.Deterministic('z_factor', 1 - (3 * sigma[indices, :] + 3 * sigma[baseline_idx]) / np.abs(fold[indices, :] - fold[baseline_idx]))"
   ]
  },
  {
   "cell_type": "code",
   "execution_count": 7,
   "metadata": {
    "collapsed": false,
    "nbpresent": {
     "id": "63607cfb-1dd8-4a2c-a6e5-9a382f013a85"
    }
   },
   "outputs": [
    {
     "name": "stdout",
     "output_type": "stream",
     "text": [
      "Iteration 0 [0%]: ELBO = -6511.92\n",
      "Iteration 20000 [10%]: Average ELBO = -673.47\n",
      "Iteration 40000 [20%]: Average ELBO = -281.37\n",
      "Iteration 60000 [30%]: Average ELBO = -277.41\n",
      "Iteration 80000 [40%]: Average ELBO = -276.48\n",
      "Iteration 100000 [50%]: Average ELBO = -274.95\n",
      "Iteration 120000 [60%]: Average ELBO = -274.72\n",
      "Iteration 140000 [70%]: Average ELBO = -274.8\n",
      "Iteration 160000 [80%]: Average ELBO = -274.83\n",
      "Iteration 180000 [90%]: Average ELBO = -274.91\n",
      "Finished [100%]: Average ELBO = -274.98\n"
     ]
    }
   ],
   "source": [
    "with model:\n",
    "    n_steps = 200000\n",
    "    params = pm.variational.advi(n=n_steps)\n",
    "    trace = pm.variational.sample_vp(params, draws=2000)"
   ]
  },
  {
   "cell_type": "code",
   "execution_count": 8,
   "metadata": {
    "collapsed": false,
    "nbpresent": {
     "id": "dd65b702-f17a-4de1-a548-08f07a1d8962"
    }
   },
   "outputs": [],
   "source": [
    "lower, upper = np.percentile(trace['fold'], [2.5, 97.5], axis=0)\n",
    "width = upper - lower\n",
    "\n",
    "summary_stats['hpd'] = width\n",
    "summary_stats['mean_bayes'] = trace['fold'].mean(axis=0)"
   ]
  },
  {
   "cell_type": "code",
   "execution_count": 9,
   "metadata": {
    "collapsed": false,
    "nbpresent": {
     "id": "005db26b-ec68-40a4-ad85-642131d4f112"
    }
   },
   "outputs": [
    {
     "data": {
      "text/html": [
       "<div>\n",
       "<table border=\"1\" class=\"dataframe\">\n",
       "  <thead>\n",
       "    <tr style=\"text-align: right;\">\n",
       "      <th></th>\n",
       "      <th>mean</th>\n",
       "      <th>std</th>\n",
       "      <th>3sd</th>\n",
       "      <th>sem</th>\n",
       "      <th>95ci</th>\n",
       "      <th>range</th>\n",
       "      <th>hpd</th>\n",
       "      <th>mean_bayes</th>\n",
       "    </tr>\n",
       "    <tr>\n",
       "      <th>Sample</th>\n",
       "      <th></th>\n",
       "      <th></th>\n",
       "      <th></th>\n",
       "      <th></th>\n",
       "      <th></th>\n",
       "      <th></th>\n",
       "      <th></th>\n",
       "      <th></th>\n",
       "    </tr>\n",
       "  </thead>\n",
       "  <tbody>\n",
       "    <tr>\n",
       "      <th>Akkermansia muciniphilia</th>\n",
       "      <td>78.277791</td>\n",
       "      <td>20.996487</td>\n",
       "      <td>62.989461</td>\n",
       "      <td>10.498243</td>\n",
       "      <td>20.576557</td>\n",
       "      <td>22.340782</td>\n",
       "      <td>16.133774</td>\n",
       "      <td>75.096961</td>\n",
       "    </tr>\n",
       "    <tr>\n",
       "      <th>Bacteroides fragilis</th>\n",
       "      <td>45.460869</td>\n",
       "      <td>3.525560</td>\n",
       "      <td>10.576681</td>\n",
       "      <td>1.762780</td>\n",
       "      <td>3.455049</td>\n",
       "      <td>3.757829</td>\n",
       "      <td>5.107279</td>\n",
       "      <td>45.112830</td>\n",
       "    </tr>\n",
       "    <tr>\n",
       "      <th>Bacteroides ovatus</th>\n",
       "      <td>87.525871</td>\n",
       "      <td>52.880332</td>\n",
       "      <td>158.640996</td>\n",
       "      <td>26.440166</td>\n",
       "      <td>51.822725</td>\n",
       "      <td>51.990644</td>\n",
       "      <td>55.742790</td>\n",
       "      <td>81.225555</td>\n",
       "    </tr>\n",
       "    <tr>\n",
       "      <th>Bacteroides thetaiotaomicron</th>\n",
       "      <td>66.386376</td>\n",
       "      <td>21.101564</td>\n",
       "      <td>63.304691</td>\n",
       "      <td>10.550782</td>\n",
       "      <td>20.679532</td>\n",
       "      <td>20.933400</td>\n",
       "      <td>28.149165</td>\n",
       "      <td>66.252366</td>\n",
       "    </tr>\n",
       "    <tr>\n",
       "      <th>Bacteroides vulgatus</th>\n",
       "      <td>56.403161</td>\n",
       "      <td>22.001431</td>\n",
       "      <td>66.004293</td>\n",
       "      <td>11.000716</td>\n",
       "      <td>21.561402</td>\n",
       "      <td>23.505116</td>\n",
       "      <td>28.057124</td>\n",
       "      <td>56.657161</td>\n",
       "    </tr>\n",
       "    <tr>\n",
       "      <th>Clostridium scindens</th>\n",
       "      <td>68.996463</td>\n",
       "      <td>25.432097</td>\n",
       "      <td>76.296291</td>\n",
       "      <td>12.716048</td>\n",
       "      <td>24.923455</td>\n",
       "      <td>30.555556</td>\n",
       "      <td>26.818920</td>\n",
       "      <td>69.650379</td>\n",
       "    </tr>\n",
       "    <tr>\n",
       "      <th>Escherichia coli BC15</th>\n",
       "      <td>35.287830</td>\n",
       "      <td>13.841571</td>\n",
       "      <td>41.524714</td>\n",
       "      <td>6.920786</td>\n",
       "      <td>13.564740</td>\n",
       "      <td>16.557386</td>\n",
       "      <td>16.166711</td>\n",
       "      <td>35.363523</td>\n",
       "    </tr>\n",
       "    <tr>\n",
       "      <th>Escherichia coli K12</th>\n",
       "      <td>55.125068</td>\n",
       "      <td>35.645586</td>\n",
       "      <td>106.936758</td>\n",
       "      <td>17.822793</td>\n",
       "      <td>34.932674</td>\n",
       "      <td>36.405062</td>\n",
       "      <td>24.269833</td>\n",
       "      <td>49.015819</td>\n",
       "    </tr>\n",
       "    <tr>\n",
       "      <th>Eubacterium rectale</th>\n",
       "      <td>66.034047</td>\n",
       "      <td>27.507662</td>\n",
       "      <td>82.522986</td>\n",
       "      <td>13.753831</td>\n",
       "      <td>26.957509</td>\n",
       "      <td>25.675404</td>\n",
       "      <td>36.799259</td>\n",
       "      <td>65.747259</td>\n",
       "    </tr>\n",
       "    <tr>\n",
       "      <th>Parabacteroides distastonis</th>\n",
       "      <td>70.003415</td>\n",
       "      <td>34.103531</td>\n",
       "      <td>102.310594</td>\n",
       "      <td>17.051766</td>\n",
       "      <td>33.421461</td>\n",
       "      <td>30.609552</td>\n",
       "      <td>44.617042</td>\n",
       "      <td>69.035416</td>\n",
       "    </tr>\n",
       "    <tr>\n",
       "      <th>Pseudomonas aeruginosa</th>\n",
       "      <td>43.306464</td>\n",
       "      <td>20.894621</td>\n",
       "      <td>62.683862</td>\n",
       "      <td>10.447310</td>\n",
       "      <td>20.476728</td>\n",
       "      <td>21.643470</td>\n",
       "      <td>26.617996</td>\n",
       "      <td>43.429338</td>\n",
       "    </tr>\n",
       "    <tr>\n",
       "      <th>Rumincoccus obeum</th>\n",
       "      <td>57.312946</td>\n",
       "      <td>13.289224</td>\n",
       "      <td>39.867672</td>\n",
       "      <td>6.644612</td>\n",
       "      <td>13.023440</td>\n",
       "      <td>15.331967</td>\n",
       "      <td>13.124375</td>\n",
       "      <td>58.967296</td>\n",
       "    </tr>\n",
       "    <tr>\n",
       "      <th>Salmonella typhimurium</th>\n",
       "      <td>18.791045</td>\n",
       "      <td>16.139542</td>\n",
       "      <td>48.418627</td>\n",
       "      <td>8.069771</td>\n",
       "      <td>15.816751</td>\n",
       "      <td>15.740096</td>\n",
       "      <td>21.720347</td>\n",
       "      <td>18.772765</td>\n",
       "    </tr>\n",
       "    <tr>\n",
       "      <th>Water</th>\n",
       "      <td>100.000000</td>\n",
       "      <td>14.300991</td>\n",
       "      <td>42.902973</td>\n",
       "      <td>7.150495</td>\n",
       "      <td>14.014971</td>\n",
       "      <td>17.118998</td>\n",
       "      <td>16.701700</td>\n",
       "      <td>97.427937</td>\n",
       "    </tr>\n",
       "  </tbody>\n",
       "</table>\n",
       "</div>"
      ],
      "text/plain": [
       "                                     mean        std         3sd        sem  \\\n",
       "Sample                                                                        \n",
       "Akkermansia muciniphilia        78.277791  20.996487   62.989461  10.498243   \n",
       "Bacteroides fragilis            45.460869   3.525560   10.576681   1.762780   \n",
       "Bacteroides ovatus              87.525871  52.880332  158.640996  26.440166   \n",
       "Bacteroides thetaiotaomicron    66.386376  21.101564   63.304691  10.550782   \n",
       "Bacteroides vulgatus            56.403161  22.001431   66.004293  11.000716   \n",
       "Clostridium scindens            68.996463  25.432097   76.296291  12.716048   \n",
       "Escherichia coli BC15           35.287830  13.841571   41.524714   6.920786   \n",
       "Escherichia coli K12            55.125068  35.645586  106.936758  17.822793   \n",
       "Eubacterium rectale             66.034047  27.507662   82.522986  13.753831   \n",
       "Parabacteroides distastonis     70.003415  34.103531  102.310594  17.051766   \n",
       "Pseudomonas aeruginosa          43.306464  20.894621   62.683862  10.447310   \n",
       "Rumincoccus obeum               57.312946  13.289224   39.867672   6.644612   \n",
       "Salmonella typhimurium          18.791045  16.139542   48.418627   8.069771   \n",
       "Water                          100.000000  14.300991   42.902973   7.150495   \n",
       "\n",
       "                                    95ci      range        hpd  mean_bayes  \n",
       "Sample                                                                      \n",
       "Akkermansia muciniphilia       20.576557  22.340782  16.133774   75.096961  \n",
       "Bacteroides fragilis            3.455049   3.757829   5.107279   45.112830  \n",
       "Bacteroides ovatus             51.822725  51.990644  55.742790   81.225555  \n",
       "Bacteroides thetaiotaomicron   20.679532  20.933400  28.149165   66.252366  \n",
       "Bacteroides vulgatus           21.561402  23.505116  28.057124   56.657161  \n",
       "Clostridium scindens           24.923455  30.555556  26.818920   69.650379  \n",
       "Escherichia coli BC15          13.564740  16.557386  16.166711   35.363523  \n",
       "Escherichia coli K12           34.932674  36.405062  24.269833   49.015819  \n",
       "Eubacterium rectale            26.957509  25.675404  36.799259   65.747259  \n",
       "Parabacteroides distastonis    33.421461  30.609552  44.617042   69.035416  \n",
       "Pseudomonas aeruginosa         20.476728  21.643470  26.617996   43.429338  \n",
       "Rumincoccus obeum              13.023440  15.331967  13.124375   58.967296  \n",
       "Salmonella typhimurium         15.816751  15.740096  21.720347   18.772765  \n",
       "Water                          14.014971  17.118998  16.701700   97.427937  "
      ]
     },
     "execution_count": 9,
     "metadata": {},
     "output_type": "execute_result"
    }
   ],
   "source": [
    "summary_stats"
   ]
  },
  {
   "cell_type": "code",
   "execution_count": 10,
   "metadata": {
    "collapsed": false,
    "scrolled": true
   },
   "outputs": [
    {
     "data": {
      "text/plain": [
       "array([[<matplotlib.axes._subplots.AxesSubplot object at 0x113b0e780>,\n",
       "        <matplotlib.axes._subplots.AxesSubplot object at 0x113dedd30>]], dtype=object)"
      ]
     },
     "execution_count": 10,
     "metadata": {},
     "output_type": "execute_result"
    },
    {
     "data": {
      "image/png": "[encoded data removed]",
      "text/plain": [
       "<matplotlib.figure.Figure at 0x104901400>"
      ]
     },
     "metadata": {},
     "output_type": "display_data"
    }
   ],
   "source": [
    "pm.traceplot(trace, varnames=['nu_minus_one'])"
   ]
  },
  {
   "cell_type": "code",
   "execution_count": 11,
   "metadata": {
    "collapsed": false
   },
   "outputs": [
    {
     "data": {
      "text/plain": [
       "2.6713652729300046"
      ]
     },
     "execution_count": 11,
     "metadata": {},
     "output_type": "execute_result"
    }
   ],
   "source": [
    "trace['nu_minus_one'].mean(axis=0)"
   ]
  },
  {
   "cell_type": "code",
   "execution_count": 30,
   "metadata": {
    "collapsed": false,
    "nbpresent": {
     "id": "77679da6-091d-4bb6-a9ac-50789e5939df"
    },
    "scrolled": false
   },
   "outputs": [
    {
     "data": {
      "text/plain": [
       "<matplotlib.text.Text at 0x112c95d30>"
      ]
     },
     "execution_count": 30,
     "metadata": {},
     "output_type": "execute_result"
    },
    {
     "data": {
      "image/png": "[encoded data removed]",
      "text/plain": [
       "<matplotlib.figure.Figure at 0x112c49eb8>"
      ]
     },
     "metadata": {},
     "output_type": "display_data"
    }
   ],
   "source": [
    "fig = plt.figure()\n",
    "ax = fig.add_subplot(111)\n",
    "\n",
    "# summary_stats[['std', '3sd', 'sem', '95ci', 'range', 'hpd']].plot(ax=ax)\n",
    "\n",
    "lower, lower_q, upper_q, upper = np.percentile(trace['fold'], [2.5, 25, 75, 97.5], axis=0)\n",
    "err_low = trace['fold'].mean(axis=0) - lower\n",
    "err_high = upper - trace['fold'].mean(axis=0)\n",
    "iqr_low = trace['fold'].mean(axis=0) - lower_q\n",
    "iqr_high = upper_q - trace['fold'].mean(axis=0)\n",
    "\n",
    "summary_stats['mean_bayes'].plot(rot=90, ls='', ax=ax, yerr=[err_low, err_high])\n",
    "summary_stats['mean_bayes'].plot(rot=90, ls='', ax=ax, yerr=[iqr_low, iqr_high], elinewidth=4, color='red')\n",
    "sns.swarmplot(data=data, x='Sample', y='Normalized % GFP', orient='v', ax=ax)\n",
    "# sns.violinplot(data=trace_df, ax=ax)\n",
    "plt.xticks(rotation='vertical')\n",
    "plt.ylabel('mean activity')"
   ]
  },
  {
   "cell_type": "code",
   "execution_count": 14,
   "metadata": {
    "collapsed": false
   },
   "outputs": [
    {
     "data": {
      "text/html": [
       "<div>\n",
       "<table border=\"1\" class=\"dataframe\">\n",
       "  <thead>\n",
       "    <tr style=\"text-align: right;\">\n",
       "      <th></th>\n",
       "      <th>mean</th>\n",
       "      <th>sd</th>\n",
       "      <th>mc_error</th>\n",
       "      <th>hpd_2.5</th>\n",
       "      <th>hpd_97.5</th>\n",
       "    </tr>\n",
       "  </thead>\n",
       "  <tbody>\n",
       "    <tr>\n",
       "      <th>upper</th>\n",
       "      <td>101.720875</td>\n",
       "      <td>1.677322</td>\n",
       "      <td>0.035305</td>\n",
       "      <td>98.387530</td>\n",
       "      <td>104.947552</td>\n",
       "    </tr>\n",
       "    <tr>\n",
       "      <th>nu_minus_one</th>\n",
       "      <td>2.671365</td>\n",
       "      <td>1.736646</td>\n",
       "      <td>0.037679</td>\n",
       "      <td>0.453682</td>\n",
       "      <td>6.101345</td>\n",
       "    </tr>\n",
       "    <tr>\n",
       "      <th>fold__0</th>\n",
       "      <td>75.096961</td>\n",
       "      <td>4.227646</td>\n",
       "      <td>0.098614</td>\n",
       "      <td>66.984757</td>\n",
       "      <td>82.972798</td>\n",
       "    </tr>\n",
       "    <tr>\n",
       "      <th>fold__1</th>\n",
       "      <td>45.112830</td>\n",
       "      <td>1.279119</td>\n",
       "      <td>0.027216</td>\n",
       "      <td>42.384246</td>\n",
       "      <td>47.439451</td>\n",
       "    </tr>\n",
       "    <tr>\n",
       "      <th>fold__2</th>\n",
       "      <td>81.225555</td>\n",
       "      <td>14.874203</td>\n",
       "      <td>0.302643</td>\n",
       "      <td>50.660221</td>\n",
       "      <td>102.017844</td>\n",
       "    </tr>\n",
       "    <tr>\n",
       "      <th>fold__3</th>\n",
       "      <td>66.252366</td>\n",
       "      <td>7.221430</td>\n",
       "      <td>0.152521</td>\n",
       "      <td>52.592839</td>\n",
       "      <td>80.353123</td>\n",
       "    </tr>\n",
       "    <tr>\n",
       "      <th>fold__4</th>\n",
       "      <td>56.657161</td>\n",
       "      <td>7.310657</td>\n",
       "      <td>0.168826</td>\n",
       "      <td>42.292298</td>\n",
       "      <td>70.382306</td>\n",
       "    </tr>\n",
       "    <tr>\n",
       "      <th>fold__5</th>\n",
       "      <td>69.650379</td>\n",
       "      <td>7.078854</td>\n",
       "      <td>0.147734</td>\n",
       "      <td>54.999719</td>\n",
       "      <td>81.866000</td>\n",
       "    </tr>\n",
       "    <tr>\n",
       "      <th>fold__6</th>\n",
       "      <td>35.363523</td>\n",
       "      <td>4.071117</td>\n",
       "      <td>0.086424</td>\n",
       "      <td>27.796485</td>\n",
       "      <td>43.910044</td>\n",
       "    </tr>\n",
       "    <tr>\n",
       "      <th>fold__7</th>\n",
       "      <td>49.015819</td>\n",
       "      <td>6.109781</td>\n",
       "      <td>0.120094</td>\n",
       "      <td>37.379029</td>\n",
       "      <td>61.563900</td>\n",
       "    </tr>\n",
       "    <tr>\n",
       "      <th>fold__8</th>\n",
       "      <td>65.747259</td>\n",
       "      <td>9.339616</td>\n",
       "      <td>0.210131</td>\n",
       "      <td>46.949849</td>\n",
       "      <td>82.871471</td>\n",
       "    </tr>\n",
       "    <tr>\n",
       "      <th>fold__9</th>\n",
       "      <td>69.035416</td>\n",
       "      <td>11.524058</td>\n",
       "      <td>0.275592</td>\n",
       "      <td>45.031719</td>\n",
       "      <td>89.045461</td>\n",
       "    </tr>\n",
       "    <tr>\n",
       "      <th>fold__10</th>\n",
       "      <td>43.429338</td>\n",
       "      <td>6.798462</td>\n",
       "      <td>0.150641</td>\n",
       "      <td>30.985826</td>\n",
       "      <td>57.095722</td>\n",
       "    </tr>\n",
       "    <tr>\n",
       "      <th>fold__11</th>\n",
       "      <td>58.967296</td>\n",
       "      <td>3.355063</td>\n",
       "      <td>0.077281</td>\n",
       "      <td>51.821162</td>\n",
       "      <td>64.874199</td>\n",
       "    </tr>\n",
       "    <tr>\n",
       "      <th>fold__12</th>\n",
       "      <td>18.772765</td>\n",
       "      <td>5.436542</td>\n",
       "      <td>0.109461</td>\n",
       "      <td>8.562058</td>\n",
       "      <td>29.534766</td>\n",
       "    </tr>\n",
       "    <tr>\n",
       "      <th>fold__13</th>\n",
       "      <td>97.427937</td>\n",
       "      <td>4.821413</td>\n",
       "      <td>0.101090</td>\n",
       "      <td>88.392067</td>\n",
       "      <td>104.262021</td>\n",
       "    </tr>\n",
       "    <tr>\n",
       "      <th>sigma__0</th>\n",
       "      <td>0.391227</td>\n",
       "      <td>0.111985</td>\n",
       "      <td>0.002289</td>\n",
       "      <td>0.197765</td>\n",
       "      <td>0.604601</td>\n",
       "    </tr>\n",
       "    <tr>\n",
       "      <th>sigma__1</th>\n",
       "      <td>0.793273</td>\n",
       "      <td>0.200638</td>\n",
       "      <td>0.004805</td>\n",
       "      <td>0.415100</td>\n",
       "      <td>1.187115</td>\n",
       "    </tr>\n",
       "    <tr>\n",
       "      <th>sigma__2</th>\n",
       "      <td>0.209363</td>\n",
       "      <td>0.050613</td>\n",
       "      <td>0.000983</td>\n",
       "      <td>0.117747</td>\n",
       "      <td>0.308869</td>\n",
       "    </tr>\n",
       "    <tr>\n",
       "      <th>sigma__3</th>\n",
       "      <td>0.333518</td>\n",
       "      <td>0.082118</td>\n",
       "      <td>0.001841</td>\n",
       "      <td>0.184785</td>\n",
       "      <td>0.494027</td>\n",
       "    </tr>\n",
       "    <tr>\n",
       "      <th>sigma__4</th>\n",
       "      <td>0.331674</td>\n",
       "      <td>0.083263</td>\n",
       "      <td>0.001924</td>\n",
       "      <td>0.181652</td>\n",
       "      <td>0.499782</td>\n",
       "    </tr>\n",
       "    <tr>\n",
       "      <th>sigma__5</th>\n",
       "      <td>0.321962</td>\n",
       "      <td>0.079970</td>\n",
       "      <td>0.001866</td>\n",
       "      <td>0.157565</td>\n",
       "      <td>0.460683</td>\n",
       "    </tr>\n",
       "    <tr>\n",
       "      <th>sigma__6</th>\n",
       "      <td>0.418544</td>\n",
       "      <td>0.104068</td>\n",
       "      <td>0.002290</td>\n",
       "      <td>0.230815</td>\n",
       "      <td>0.622488</td>\n",
       "    </tr>\n",
       "    <tr>\n",
       "      <th>sigma__7</th>\n",
       "      <td>0.315687</td>\n",
       "      <td>0.093443</td>\n",
       "      <td>0.001967</td>\n",
       "      <td>0.148227</td>\n",
       "      <td>0.498608</td>\n",
       "    </tr>\n",
       "    <tr>\n",
       "      <th>sigma__8</th>\n",
       "      <td>0.291337</td>\n",
       "      <td>0.073321</td>\n",
       "      <td>0.001642</td>\n",
       "      <td>0.164012</td>\n",
       "      <td>0.435789</td>\n",
       "    </tr>\n",
       "    <tr>\n",
       "      <th>sigma__9</th>\n",
       "      <td>0.263851</td>\n",
       "      <td>0.069048</td>\n",
       "      <td>0.001448</td>\n",
       "      <td>0.144578</td>\n",
       "      <td>0.400611</td>\n",
       "    </tr>\n",
       "    <tr>\n",
       "      <th>sigma__10</th>\n",
       "      <td>0.335090</td>\n",
       "      <td>0.084579</td>\n",
       "      <td>0.001979</td>\n",
       "      <td>0.190267</td>\n",
       "      <td>0.503905</td>\n",
       "    </tr>\n",
       "    <tr>\n",
       "      <th>sigma__11</th>\n",
       "      <td>0.452468</td>\n",
       "      <td>0.121193</td>\n",
       "      <td>0.002740</td>\n",
       "      <td>0.241596</td>\n",
       "      <td>0.688531</td>\n",
       "    </tr>\n",
       "    <tr>\n",
       "      <th>sigma__12</th>\n",
       "      <td>0.377836</td>\n",
       "      <td>0.093493</td>\n",
       "      <td>0.002196</td>\n",
       "      <td>0.206692</td>\n",
       "      <td>0.560051</td>\n",
       "    </tr>\n",
       "    <tr>\n",
       "      <th>sigma__13</th>\n",
       "      <td>0.411140</td>\n",
       "      <td>0.103318</td>\n",
       "      <td>0.002342</td>\n",
       "      <td>0.240188</td>\n",
       "      <td>0.624952</td>\n",
       "    </tr>\n",
       "    <tr>\n",
       "      <th>...</th>\n",
       "      <td>...</td>\n",
       "      <td>...</td>\n",
       "      <td>...</td>\n",
       "      <td>...</td>\n",
       "      <td>...</td>\n",
       "    </tr>\n",
       "    <tr>\n",
       "      <th>diffs__9</th>\n",
       "      <td>-28.392521</td>\n",
       "      <td>12.405929</td>\n",
       "      <td>0.300364</td>\n",
       "      <td>-52.886423</td>\n",
       "      <td>-5.421839</td>\n",
       "    </tr>\n",
       "    <tr>\n",
       "      <th>diffs__10</th>\n",
       "      <td>-53.998599</td>\n",
       "      <td>8.081969</td>\n",
       "      <td>0.182463</td>\n",
       "      <td>-69.972774</td>\n",
       "      <td>-39.456246</td>\n",
       "    </tr>\n",
       "    <tr>\n",
       "      <th>diffs__11</th>\n",
       "      <td>-38.460642</td>\n",
       "      <td>5.603781</td>\n",
       "      <td>0.120424</td>\n",
       "      <td>-48.193448</td>\n",
       "      <td>-27.945369</td>\n",
       "    </tr>\n",
       "    <tr>\n",
       "      <th>diffs__12</th>\n",
       "      <td>-78.655173</td>\n",
       "      <td>7.156815</td>\n",
       "      <td>0.149809</td>\n",
       "      <td>-90.518146</td>\n",
       "      <td>-65.061013</td>\n",
       "    </tr>\n",
       "    <tr>\n",
       "      <th>s_pooled__0</th>\n",
       "      <td>0.407787</td>\n",
       "      <td>0.079781</td>\n",
       "      <td>0.001655</td>\n",
       "      <td>0.261064</td>\n",
       "      <td>0.558691</td>\n",
       "    </tr>\n",
       "    <tr>\n",
       "      <th>s_pooled__1</th>\n",
       "      <td>0.638472</td>\n",
       "      <td>0.130299</td>\n",
       "      <td>0.003145</td>\n",
       "      <td>0.389818</td>\n",
       "      <td>0.896139</td>\n",
       "    </tr>\n",
       "    <tr>\n",
       "      <th>s_pooled__2</th>\n",
       "      <td>0.329325</td>\n",
       "      <td>0.067806</td>\n",
       "      <td>0.001541</td>\n",
       "      <td>0.200029</td>\n",
       "      <td>0.455391</td>\n",
       "    </tr>\n",
       "    <tr>\n",
       "      <th>s_pooled__3</th>\n",
       "      <td>0.379497</td>\n",
       "      <td>0.069470</td>\n",
       "      <td>0.001526</td>\n",
       "      <td>0.257139</td>\n",
       "      <td>0.518473</td>\n",
       "    </tr>\n",
       "    <tr>\n",
       "      <th>s_pooled__4</th>\n",
       "      <td>0.378597</td>\n",
       "      <td>0.070638</td>\n",
       "      <td>0.001670</td>\n",
       "      <td>0.258062</td>\n",
       "      <td>0.529744</td>\n",
       "    </tr>\n",
       "    <tr>\n",
       "      <th>s_pooled__5</th>\n",
       "      <td>0.374310</td>\n",
       "      <td>0.069100</td>\n",
       "      <td>0.001531</td>\n",
       "      <td>0.237107</td>\n",
       "      <td>0.501905</td>\n",
       "    </tr>\n",
       "    <tr>\n",
       "      <th>s_pooled__6</th>\n",
       "      <td>0.420841</td>\n",
       "      <td>0.075851</td>\n",
       "      <td>0.001766</td>\n",
       "      <td>0.271700</td>\n",
       "      <td>0.565006</td>\n",
       "    </tr>\n",
       "    <tr>\n",
       "      <th>s_pooled__7</th>\n",
       "      <td>0.372426</td>\n",
       "      <td>0.073139</td>\n",
       "      <td>0.001687</td>\n",
       "      <td>0.236449</td>\n",
       "      <td>0.512828</td>\n",
       "    </tr>\n",
       "    <tr>\n",
       "      <th>s_pooled__8</th>\n",
       "      <td>0.361038</td>\n",
       "      <td>0.068072</td>\n",
       "      <td>0.001441</td>\n",
       "      <td>0.232376</td>\n",
       "      <td>0.492024</td>\n",
       "    </tr>\n",
       "    <tr>\n",
       "      <th>s_pooled__9</th>\n",
       "      <td>0.349822</td>\n",
       "      <td>0.068353</td>\n",
       "      <td>0.001512</td>\n",
       "      <td>0.228929</td>\n",
       "      <td>0.484603</td>\n",
       "    </tr>\n",
       "    <tr>\n",
       "      <th>s_pooled__10</th>\n",
       "      <td>0.380458</td>\n",
       "      <td>0.069475</td>\n",
       "      <td>0.001506</td>\n",
       "      <td>0.250066</td>\n",
       "      <td>0.511817</td>\n",
       "    </tr>\n",
       "    <tr>\n",
       "      <th>s_pooled__11</th>\n",
       "      <td>0.438925</td>\n",
       "      <td>0.083115</td>\n",
       "      <td>0.001852</td>\n",
       "      <td>0.293475</td>\n",
       "      <td>0.606774</td>\n",
       "    </tr>\n",
       "    <tr>\n",
       "      <th>s_pooled__12</th>\n",
       "      <td>0.400594</td>\n",
       "      <td>0.071625</td>\n",
       "      <td>0.001652</td>\n",
       "      <td>0.256582</td>\n",
       "      <td>0.533455</td>\n",
       "    </tr>\n",
       "    <tr>\n",
       "      <th>effect_size__0</th>\n",
       "      <td>-56.892926</td>\n",
       "      <td>19.483554</td>\n",
       "      <td>0.451381</td>\n",
       "      <td>-97.454656</td>\n",
       "      <td>-19.705138</td>\n",
       "    </tr>\n",
       "    <tr>\n",
       "      <th>effect_size__1</th>\n",
       "      <td>-85.292578</td>\n",
       "      <td>18.838833</td>\n",
       "      <td>0.476966</td>\n",
       "      <td>-119.273869</td>\n",
       "      <td>-46.918304</td>\n",
       "    </tr>\n",
       "    <tr>\n",
       "      <th>effect_size__2</th>\n",
       "      <td>-51.515262</td>\n",
       "      <td>51.611264</td>\n",
       "      <td>1.201640</td>\n",
       "      <td>-161.249163</td>\n",
       "      <td>23.754765</td>\n",
       "    </tr>\n",
       "    <tr>\n",
       "      <th>effect_size__3</th>\n",
       "      <td>-84.938064</td>\n",
       "      <td>28.043024</td>\n",
       "      <td>0.594371</td>\n",
       "      <td>-141.919685</td>\n",
       "      <td>-35.922808</td>\n",
       "    </tr>\n",
       "    <tr>\n",
       "      <th>effect_size__4</th>\n",
       "      <td>-111.401515</td>\n",
       "      <td>31.361413</td>\n",
       "      <td>0.793280</td>\n",
       "      <td>-171.956506</td>\n",
       "      <td>-52.065414</td>\n",
       "    </tr>\n",
       "    <tr>\n",
       "      <th>effect_size__5</th>\n",
       "      <td>-76.778817</td>\n",
       "      <td>27.795546</td>\n",
       "      <td>0.589667</td>\n",
       "      <td>-140.060139</td>\n",
       "      <td>-30.766903</td>\n",
       "    </tr>\n",
       "    <tr>\n",
       "      <th>effect_size__6</th>\n",
       "      <td>-152.426856</td>\n",
       "      <td>31.905195</td>\n",
       "      <td>0.731286</td>\n",
       "      <td>-216.865091</td>\n",
       "      <td>-91.856119</td>\n",
       "    </tr>\n",
       "    <tr>\n",
       "      <th>effect_size__7</th>\n",
       "      <td>-135.130567</td>\n",
       "      <td>34.863552</td>\n",
       "      <td>0.812015</td>\n",
       "      <td>-212.182982</td>\n",
       "      <td>-78.694297</td>\n",
       "    </tr>\n",
       "    <tr>\n",
       "      <th>effect_size__8</th>\n",
       "      <td>-90.958394</td>\n",
       "      <td>34.664248</td>\n",
       "      <td>0.794826</td>\n",
       "      <td>-165.196860</td>\n",
       "      <td>-30.787725</td>\n",
       "    </tr>\n",
       "    <tr>\n",
       "      <th>effect_size__9</th>\n",
       "      <td>-84.584649</td>\n",
       "      <td>41.698696</td>\n",
       "      <td>0.969849</td>\n",
       "      <td>-167.943402</td>\n",
       "      <td>-12.130478</td>\n",
       "    </tr>\n",
       "    <tr>\n",
       "      <th>effect_size__10</th>\n",
       "      <td>-146.791259</td>\n",
       "      <td>35.459501</td>\n",
       "      <td>0.903021</td>\n",
       "      <td>-223.001409</td>\n",
       "      <td>-85.949479</td>\n",
       "    </tr>\n",
       "    <tr>\n",
       "      <th>effect_size__11</th>\n",
       "      <td>-90.736650</td>\n",
       "      <td>21.762701</td>\n",
       "      <td>0.545303</td>\n",
       "      <td>-134.040336</td>\n",
       "      <td>-51.033221</td>\n",
       "    </tr>\n",
       "    <tr>\n",
       "      <th>effect_size__12</th>\n",
       "      <td>-202.620840</td>\n",
       "      <td>40.809167</td>\n",
       "      <td>0.922162</td>\n",
       "      <td>-279.837873</td>\n",
       "      <td>-126.566698</td>\n",
       "    </tr>\n",
       "  </tbody>\n",
       "</table>\n",
       "<p>69 rows × 5 columns</p>\n",
       "</div>"
      ],
      "text/plain": [
       "                       mean         sd  mc_error     hpd_2.5    hpd_97.5\n",
       "upper            101.720875   1.677322  0.035305   98.387530  104.947552\n",
       "nu_minus_one       2.671365   1.736646  0.037679    0.453682    6.101345\n",
       "fold__0           75.096961   4.227646  0.098614   66.984757   82.972798\n",
       "fold__1           45.112830   1.279119  0.027216   42.384246   47.439451\n",
       "fold__2           81.225555  14.874203  0.302643   50.660221  102.017844\n",
       "fold__3           66.252366   7.221430  0.152521   52.592839   80.353123\n",
       "fold__4           56.657161   7.310657  0.168826   42.292298   70.382306\n",
       "fold__5           69.650379   7.078854  0.147734   54.999719   81.866000\n",
       "fold__6           35.363523   4.071117  0.086424   27.796485   43.910044\n",
       "fold__7           49.015819   6.109781  0.120094   37.379029   61.563900\n",
       "fold__8           65.747259   9.339616  0.210131   46.949849   82.871471\n",
       "fold__9           69.035416  11.524058  0.275592   45.031719   89.045461\n",
       "fold__10          43.429338   6.798462  0.150641   30.985826   57.095722\n",
       "fold__11          58.967296   3.355063  0.077281   51.821162   64.874199\n",
       "fold__12          18.772765   5.436542  0.109461    8.562058   29.534766\n",
       "fold__13          97.427937   4.821413  0.101090   88.392067  104.262021\n",
       "sigma__0           0.391227   0.111985  0.002289    0.197765    0.604601\n",
       "sigma__1           0.793273   0.200638  0.004805    0.415100    1.187115\n",
       "sigma__2           0.209363   0.050613  0.000983    0.117747    0.308869\n",
       "sigma__3           0.333518   0.082118  0.001841    0.184785    0.494027\n",
       "sigma__4           0.331674   0.083263  0.001924    0.181652    0.499782\n",
       "sigma__5           0.321962   0.079970  0.001866    0.157565    0.460683\n",
       "sigma__6           0.418544   0.104068  0.002290    0.230815    0.622488\n",
       "sigma__7           0.315687   0.093443  0.001967    0.148227    0.498608\n",
       "sigma__8           0.291337   0.073321  0.001642    0.164012    0.435789\n",
       "sigma__9           0.263851   0.069048  0.001448    0.144578    0.400611\n",
       "sigma__10          0.335090   0.084579  0.001979    0.190267    0.503905\n",
       "sigma__11          0.452468   0.121193  0.002740    0.241596    0.688531\n",
       "sigma__12          0.377836   0.093493  0.002196    0.206692    0.560051\n",
       "sigma__13          0.411140   0.103318  0.002342    0.240188    0.624952\n",
       "...                     ...        ...       ...         ...         ...\n",
       "diffs__9         -28.392521  12.405929  0.300364  -52.886423   -5.421839\n",
       "diffs__10        -53.998599   8.081969  0.182463  -69.972774  -39.456246\n",
       "diffs__11        -38.460642   5.603781  0.120424  -48.193448  -27.945369\n",
       "diffs__12        -78.655173   7.156815  0.149809  -90.518146  -65.061013\n",
       "s_pooled__0        0.407787   0.079781  0.001655    0.261064    0.558691\n",
       "s_pooled__1        0.638472   0.130299  0.003145    0.389818    0.896139\n",
       "s_pooled__2        0.329325   0.067806  0.001541    0.200029    0.455391\n",
       "s_pooled__3        0.379497   0.069470  0.001526    0.257139    0.518473\n",
       "s_pooled__4        0.378597   0.070638  0.001670    0.258062    0.529744\n",
       "s_pooled__5        0.374310   0.069100  0.001531    0.237107    0.501905\n",
       "s_pooled__6        0.420841   0.075851  0.001766    0.271700    0.565006\n",
       "s_pooled__7        0.372426   0.073139  0.001687    0.236449    0.512828\n",
       "s_pooled__8        0.361038   0.068072  0.001441    0.232376    0.492024\n",
       "s_pooled__9        0.349822   0.068353  0.001512    0.228929    0.484603\n",
       "s_pooled__10       0.380458   0.069475  0.001506    0.250066    0.511817\n",
       "s_pooled__11       0.438925   0.083115  0.001852    0.293475    0.606774\n",
       "s_pooled__12       0.400594   0.071625  0.001652    0.256582    0.533455\n",
       "effect_size__0   -56.892926  19.483554  0.451381  -97.454656  -19.705138\n",
       "effect_size__1   -85.292578  18.838833  0.476966 -119.273869  -46.918304\n",
       "effect_size__2   -51.515262  51.611264  1.201640 -161.249163   23.754765\n",
       "effect_size__3   -84.938064  28.043024  0.594371 -141.919685  -35.922808\n",
       "effect_size__4  -111.401515  31.361413  0.793280 -171.956506  -52.065414\n",
       "effect_size__5   -76.778817  27.795546  0.589667 -140.060139  -30.766903\n",
       "effect_size__6  -152.426856  31.905195  0.731286 -216.865091  -91.856119\n",
       "effect_size__7  -135.130567  34.863552  0.812015 -212.182982  -78.694297\n",
       "effect_size__8   -90.958394  34.664248  0.794826 -165.196860  -30.787725\n",
       "effect_size__9   -84.584649  41.698696  0.969849 -167.943402  -12.130478\n",
       "effect_size__10 -146.791259  35.459501  0.903021 -223.001409  -85.949479\n",
       "effect_size__11  -90.736650  21.762701  0.545303 -134.040336  -51.033221\n",
       "effect_size__12 -202.620840  40.809167  0.922162 -279.837873 -126.566698\n",
       "\n",
       "[69 rows x 5 columns]"
      ]
     },
     "execution_count": 14,
     "metadata": {},
     "output_type": "execute_result"
    }
   ],
   "source": [
    "pm.df_summary(trace)"
   ]
  },
  {
   "cell_type": "code",
   "execution_count": 15,
   "metadata": {
    "collapsed": false,
    "nbpresent": {
     "id": "5769818d-9749-42d3-a0c5-84af9cf43bbc"
    }
   },
   "outputs": [
    {
     "data": {
      "text/plain": [
       "<matplotlib.gridspec.GridSpec at 0x11627e7b8>"
      ]
     },
     "execution_count": 15,
     "metadata": {},
     "output_type": "execute_result"
    },
    {
     "data": {
      "image/png": "[encoded data removed]",
      "text/plain": [
       "<matplotlib.figure.Figure at 0x11627e390>"
      ]
     },
     "metadata": {},
     "output_type": "display_data"
    }
   ],
   "source": [
    "pm.forestplot(trace, varnames=['fold'], ylabels=sorted(sample_names.keys()))"
   ]
  },
  {
   "cell_type": "code",
   "execution_count": 16,
   "metadata": {
    "collapsed": false,
    "nbpresent": {
     "id": "b86a2925-d62f-4847-b1f7-fa5608b59c11"
    }
   },
   "outputs": [
    {
     "data": {
      "text/plain": [
       "<matplotlib.text.Text at 0x1170f1f98>"
      ]
     },
     "execution_count": 16,
     "metadata": {},
     "output_type": "execute_result"
    },
    {
     "data": {
      "image/png": "[encoded data removed]",
      "text/plain": [
       "<matplotlib.figure.Figure at 0x1170ed6d8>"
      ]
     },
     "metadata": {},
     "output_type": "display_data"
    }
   ],
   "source": [
    "ax = summary_stats.plot(kind='scatter', x='range', y='sem', color='green', label='SEM')\n",
    "summary_stats.plot(kind='scatter', x='range', y='95ci', ax=ax, color='red', label='frequentist CI', legend=True)\n",
    "summary_stats.plot(kind='scatter', x='range', y='hpd', ax=ax, color='blue', label='bayesian CI', legend=True)\n",
    "ax.legend(loc='upper left')\n",
    "plt.ylabel('uncertainty')"
   ]
  },
  {
   "cell_type": "code",
   "execution_count": 17,
   "metadata": {
    "collapsed": false,
    "nbpresent": {
     "id": "24597c42-4554-437f-afc3-5c9d0cfed57a"
    }
   },
   "outputs": [
    {
     "data": {
      "text/html": [
       "<div>\n",
       "<table border=\"1\" class=\"dataframe\">\n",
       "  <thead>\n",
       "    <tr style=\"text-align: right;\">\n",
       "      <th></th>\n",
       "      <th>Date</th>\n",
       "      <th>Sample</th>\n",
       "      <th>% GFP</th>\n",
       "      <th>Normalized % GFP</th>\n",
       "      <th>Replicate</th>\n",
       "      <th>Indices</th>\n",
       "    </tr>\n",
       "  </thead>\n",
       "  <tbody>\n",
       "    <tr>\n",
       "      <th>28</th>\n",
       "      <td>08.31.2016</td>\n",
       "      <td>Escherichia coli K12</td>\n",
       "      <td>19.60</td>\n",
       "      <td>81.837161</td>\n",
       "      <td>4</td>\n",
       "      <td>7</td>\n",
       "    </tr>\n",
       "    <tr>\n",
       "      <th>29</th>\n",
       "      <td>09.03.2016</td>\n",
       "      <td>Escherichia coli K12</td>\n",
       "      <td>7.36</td>\n",
       "      <td>45.432099</td>\n",
       "      <td>2</td>\n",
       "      <td>7</td>\n",
       "    </tr>\n",
       "    <tr>\n",
       "      <th>30</th>\n",
       "      <td>09.03.2016</td>\n",
       "      <td>Escherichia coli K12</td>\n",
       "      <td>7.46</td>\n",
       "      <td>46.049383</td>\n",
       "      <td>1</td>\n",
       "      <td>7</td>\n",
       "    </tr>\n",
       "    <tr>\n",
       "      <th>31</th>\n",
       "      <td>08.31.2016</td>\n",
       "      <td>Escherichia coli K12</td>\n",
       "      <td>11.30</td>\n",
       "      <td>47.181628</td>\n",
       "      <td>3</td>\n",
       "      <td>7</td>\n",
       "    </tr>\n",
       "  </tbody>\n",
       "</table>\n",
       "</div>"
      ],
      "text/plain": [
       "          Date                Sample  % GFP  Normalized % GFP  Replicate  \\\n",
       "28  08.31.2016  Escherichia coli K12  19.60         81.837161          4   \n",
       "29  09.03.2016  Escherichia coli K12   7.36         45.432099          2   \n",
       "30  09.03.2016  Escherichia coli K12   7.46         46.049383          1   \n",
       "31  08.31.2016  Escherichia coli K12  11.30         47.181628          3   \n",
       "\n",
       "    Indices  \n",
       "28        7  \n",
       "29        7  \n",
       "30        7  \n",
       "31        7  "
      ]
     },
     "execution_count": 17,
     "metadata": {},
     "output_type": "execute_result"
    }
   ],
   "source": [
    "data[data['Sample'] == 'Escherichia coli K12']"
   ]
  },
  {
   "cell_type": "markdown",
   "metadata": {
    "nbpresent": {
     "id": "5c0dbfea-2592-4c5e-8cbf-28bb20177f89"
    }
   },
   "source": [
    "We can use Dixon's Q-test to see whether there's an outlier here."
   ]
  },
  {
   "cell_type": "code",
   "execution_count": 18,
   "metadata": {
    "collapsed": false,
    "nbpresent": {
     "id": "6006af81-ab65-4dc3-ac87-2cdd675e6dbe"
    }
   },
   "outputs": [
    {
     "data": {
      "text/plain": [
       "array([ 81.83716075,  45.43209877,  46.04938272,  47.18162839])"
      ]
     },
     "execution_count": 18,
     "metadata": {},
     "output_type": "execute_result"
    }
   ],
   "source": [
    "outlier_test_data = data[data['Sample'] == 'Escherichia coli K12']['Normalized % GFP'].values\n",
    "outlier_test_data"
   ]
  },
  {
   "cell_type": "code",
   "execution_count": 19,
   "metadata": {
    "collapsed": false,
    "nbpresent": {
     "id": "84da8a8c-e835-4542-80bf-9140d7988da7"
    }
   },
   "outputs": [
    {
     "data": {
      "text/plain": [
       "0.9519426825598829"
      ]
     },
     "execution_count": 19,
     "metadata": {},
     "output_type": "execute_result"
    }
   ],
   "source": [
    "largest = sorted(outlier_test_data)[-1]\n",
    "second_largest = sorted(outlier_test_data)[-2]\n",
    "smallest = sorted(outlier_test_data)[0]\n",
    "\n",
    "gap = largest - second_largest\n",
    "data_range = largest - smallest\n",
    "\n",
    "gap / data_range"
   ]
  },
  {
   "cell_type": "markdown",
   "metadata": {
    "nbpresent": {
     "id": "3539961d-ff45-48fb-91da-a156c5ef2ad2"
    }
   },
   "source": [
    "By Dixon's Q-test table, 0.95 is greater than the 0.829 cut-off for sample size = 4 and 95% confidence. The value of 81.8 is likely a statistical outlier.\n",
    "\n",
    "Yet, we had to be careful here. The Q-test should be applied sparingly, and only once per set of measurements. By going Bayesian with the likelihood function for the data being t-distributed, the Bayesian estimation procedure automatically recognizes this data as a probable outlier, and the estimated HPD is considerably smaller than the data range.\n",
    "\n",
    "If we changed the likelihood function to a Normal distribution, our 95% HPDs would be identical to the 95% confidence intervals, but the assumption of normality has problems because it assumes infinite degrees of freedom in measurement, whereas with only `n=4`, the number of degrees of freedom is only 3."
   ]
  },
  {
   "cell_type": "markdown",
   "metadata": {
    "nbpresent": {
     "id": "99229de4-e0b4-4c20-bbcf-d623b776033b"
    }
   },
   "source": [
    "# Assumptions\n",
    "\n",
    "1. **i.i.d. (independent & identically distributed)**: The measurement of one sample doesn't affect the measurement of another sample (e.g. for E. coli), and they are assumed to have come from the same distribution family.\n",
    "1. The distributions are symmetrical. The t-test assumes t-shaped data."
   ]
  },
  {
   "cell_type": "markdown",
   "metadata": {
    "nbpresent": {
     "id": "37cd587e-2264-42f9-b22f-7cc16cf53cf3"
    }
   },
   "source": [
    "# Bayesian Coefficients\n",
    "\n",
    "When the samples are i.i.d., it is possible to calculate Bayesian coefficients of measurement, such as effect sizes, Z-factors (for HT experiments) and the likes. Canonically, these are computed as point estimates, with no notion of uncertainty associated with them.\n",
    "\n",
    "In the model specification, this was done with the following code:\n",
    "\n",
    "```python\n",
    "\n",
    "# Create masked array for all indices except for the control.\n",
    "sample_indices = np.ma.array(np.unique(data['Indices']), mask=False)\n",
    "sample_indices.mask[[sample_indices == baseline_idx]] = True\n",
    "sample_indices = sample_indices.compressed()\n",
    "\n",
    "diffs = pm.Deterministic('diffs', fold[sample_indices] - fold[baseline_idx])\n",
    "s_pooled = pm.Deterministic('s_pooled', np.sqrt((sigma[sample_indices] ** 2 + sigma[baseline_idx] ** 2) / 2))\n",
    "effect_size = pm.Deterministic('effect_size', diffs / s_pooled)\n",
    "\n",
    "z_factor = pm.Deterministic('z_factor', 1 - (3 * sigma[indices, :] + 3 * sigma[baseline_idx]) / np.abs(fold[indices, :] - fold[baseline_idx]))\n",
    "\n",
    "```"
   ]
  },
  {
   "cell_type": "code",
   "execution_count": 20,
   "metadata": {
    "collapsed": false,
    "nbpresent": {
     "id": "7ee17756-ee03-40e5-949e-3d6a3ffebedb"
    }
   },
   "outputs": [
    {
     "data": {
      "text/plain": [
       "<matplotlib.gridspec.GridSpec at 0x11111c5f8>"
      ]
     },
     "execution_count": 20,
     "metadata": {},
     "output_type": "execute_result"
    },
    {
     "data": {
      "image/png": "[encoded data removed]",
      "text/plain": [
       "<matplotlib.figure.Figure at 0x1172a5550>"
      ]
     },
     "metadata": {},
     "output_type": "display_data"
    }
   ],
   "source": [
    "sample_names_without_water = sorted(sample_names.keys())\n",
    "sample_names_without_water.remove('Water')\n",
    "pm.forestplot(trace, varnames=['effect_size'], ylabels=sample_names_without_water)"
   ]
  },
  {
   "cell_type": "markdown",
   "metadata": {
    "nbpresent": {
     "id": "1f15b506-bc40-441c-8599-72512ccb3fc0"
    }
   },
   "source": [
    "Need more information on Cohen's d? Check it out [here](http://rpsychologist.com/d3/cohend/)."
   ]
  },
  {
   "cell_type": "markdown",
   "metadata": {
    "nbpresent": {
     "id": "0e5410bc-eca8-4490-97b2-7492ad08fcd7"
    }
   },
   "source": [
    "# Reporting Results\n",
    "\n",
    "Which would be the best?\n",
    "\n",
    "**bad**\n",
    "\n",
    "> our results showed a significant difference between treatment and control \n",
    "\n",
    "**irrelevant**\n",
    "\n",
    "> our results showed that the treatment exhibited 220% the activity level of the control (p < 0.05)\n",
    "\n",
    "**good**\n",
    "\n",
    "> our results showed that the treatment exhibited 220% the activity level of the control (cohen's d: 2.5)\n",
    "\n",
    "**uncertainty!**\n",
    "\n",
    "> our results showed that the treatment exhibited (220 ± 37%) the activity level of the control (100 ± 15%) (cohen's d: 2.5)\n",
    "\n",
    "**clarity!!**\n",
    "\n",
    "> our results showed that the treatment exhibited 220% (HPD: 183, 257) the activity level of the control at 100% (HPD: 85, 115)."
   ]
  },
  {
   "cell_type": "markdown",
   "metadata": {
    "nbpresent": {
     "id": "46bf3bd6-281e-4f9b-bfe5-b85a0b86b9be"
    }
   },
   "source": [
    "# Bayesian Advantages\n",
    "\n",
    "1. No need for outlier test. Use Student's T distribution to \"account for\" outliers automatically.\n",
    "1. There's no convoluted interpretation of the HPD credible interval. It is directly related to the probability of the true parameter value being estimated.\n",
    "1. We have a measure of uncertainty for computed experimental coefficients, e.g. Z-factors and effect sizes.\n",
    "\n",
    "# Things Bayesian-ism Doesn't Solve\n",
    "\n",
    "1. Randomly occurring outliers."
   ]
  },
  {
   "cell_type": "markdown",
   "metadata": {
    "nbpresent": {
     "id": "34a02d78-ade2-4089-83f8-7090cc53829e"
    }
   },
   "source": [
    "# Application to HT Measurement\n",
    "\n",
    "1. Assumption of i.i.d. measurements holds.\n",
    "1. Each genotype's μ and σ are independent of other genotype's μ and σ.\n",
    "1. Each genotype's μ and σ can be assumed to be drawn from a \"master\" distribution.\n",
    "1. More sophisticated model: batch effects."
   ]
  },
  {
   "cell_type": "code",
   "execution_count": null,
   "metadata": {
    "collapsed": true,
    "nbpresent": {
     "id": "5eb80d3a-8292-42f7-b899-6fe9755451d8"
    }
   },
   "outputs": [],
   "source": []
  }
 ],
 "metadata": {
  "anaconda-cloud": {},
  "kernelspec": {
   "display_name": "Python [conda root]",
   "language": "python",
   "name": "conda-root-py"
  },
  "language_info": {
   "codemirror_mode": {
    "name": "ipython",
    "version": 3
   },
   "file_extension": ".py",
   "mimetype": "text/x-python",
   "name": "python",
   "nbconvert_exporter": "python",
   "pygments_lexer": "ipython3",
   "version": "3.5.2"
  },
  "nbpresent": {
   "slides": {
    "05d64fa5-aa52-499f-8a6a-d605fac7e9d2": {
     "id": "05d64fa5-aa52-499f-8a6a-d605fac7e9d2",
     "prev": "5517d4a8-d4e1-42af-a537-7c336fc035c9",
     "regions": {
      "90e92334-d60d-4cec-9285-9cd801ad65a2": {
       "attrs": {
        "height": 0.8,
        "width": 0.8,
        "x": 0.1,
        "y": 0.1
       },
       "content": {
        "cell": "24597c42-4554-437f-afc3-5c9d0cfed57a",
        "part": "whole"
       },
       "id": "90e92334-d60d-4cec-9285-9cd801ad65a2"
      }
     }
    },
    "097f713a-04f9-4886-912a-bd39f1781fb5": {
     "id": "097f713a-04f9-4886-912a-bd39f1781fb5",
     "prev": "e82add74-35f1-491b-bdb1-41cbf1396a99",
     "regions": {
      "1b6f7f0d-1d9e-45a9-a4c6-93e0dc598c1b": {
       "attrs": {
        "height": 0.8,
        "width": 0.8,
        "x": 0.1,
        "y": 0.1
       },
       "content": {
        "cell": "967eb43e-c19e-4f6d-90c4-5dd47b20942f",
        "part": "whole"
       },
       "id": "1b6f7f0d-1d9e-45a9-a4c6-93e0dc598c1b"
      }
     }
    },
    "2b276357-bdf8-457c-a22c-9ebfb25cb4db": {
     "id": "2b276357-bdf8-457c-a22c-9ebfb25cb4db",
     "prev": "efbc5b7e-3234-4fc9-b2ae-bb144ba69635",
     "regions": {
      "06939e04-b524-4ae4-b7ed-50f0b4b6f3ae": {
       "attrs": {
        "height": 0.8,
        "width": 0.8,
        "x": 0.1,
        "y": 0.1
       },
       "content": {
        "cell": "34a02d78-ade2-4089-83f8-7090cc53829e",
        "part": "whole"
       },
       "id": "06939e04-b524-4ae4-b7ed-50f0b4b6f3ae"
      }
     }
    },
    "2b7f71bc-564a-4d85-94bd-228317497a0e": {
     "id": "2b7f71bc-564a-4d85-94bd-228317497a0e",
     "prev": "5bc08707-93f3-471c-9705-f3828ed56372",
     "regions": {
      "ca60c1bc-ae51-431a-a0b2-d6645bac5e1b": {
       "attrs": {
        "height": 0.8,
        "width": 0.8,
        "x": 0.1,
        "y": 0.1
       },
       "content": {
        "cell": "7ee17756-ee03-40e5-949e-3d6a3ffebedb",
        "part": "whole"
       },
       "id": "ca60c1bc-ae51-431a-a0b2-d6645bac5e1b"
      }
     }
    },
    "37a4808c-da62-4a53-9cb8-eca692e268c4": {
     "id": "37a4808c-da62-4a53-9cb8-eca692e268c4",
     "prev": "2b7f71bc-564a-4d85-94bd-228317497a0e",
     "regions": {
      "eb23c6c4-280e-411f-ad9e-e48913c933a9": {
       "attrs": {
        "height": 0.8,
        "width": 0.8,
        "x": 0.1,
        "y": 0.1
       },
       "content": {
        "cell": "1f15b506-bc40-441c-8599-72512ccb3fc0",
        "part": "whole"
       },
       "id": "eb23c6c4-280e-411f-ad9e-e48913c933a9"
      }
     }
    },
    "37fa3324-7290-40d6-b0cb-a80b04ecbd25": {
     "id": "37fa3324-7290-40d6-b0cb-a80b04ecbd25",
     "prev": "6d9e84e3-ef64-415d-8fce-086be4bdfe53",
     "regions": {
      "3d4e7a3d-28d6-439c-973d-ee1184d2996c": {
       "attrs": {
        "height": 0.8,
        "width": 0.8,
        "x": 0.1,
        "y": 0.1
       },
       "content": {
        "cell": "962d7a7c-9dc5-4157-bbaf-c76f72ac1ef0",
        "part": "whole"
       },
       "id": "3d4e7a3d-28d6-439c-973d-ee1184d2996c"
      }
     }
    },
    "3b095c0a-62db-4d13-9230-d5e619bb7e3d": {
     "id": "3b095c0a-62db-4d13-9230-d5e619bb7e3d",
     "prev": "37a4808c-da62-4a53-9cb8-eca692e268c4",
     "regions": {
      "eb05ce6a-c1c8-42e9-bfb9-7e63f6eaf834": {
       "attrs": {
        "height": 0.8,
        "width": 0.8,
        "x": 0.1,
        "y": 0.1
       },
       "content": {
        "cell": "0e5410bc-eca8-4490-97b2-7492ad08fcd7",
        "part": "whole"
       },
       "id": "eb05ce6a-c1c8-42e9-bfb9-7e63f6eaf834"
      }
     }
    },
    "4144e21a-fd73-42ed-8bfa-814c119fe8c2": {
     "id": "4144e21a-fd73-42ed-8bfa-814c119fe8c2",
     "prev": "4a8203c3-20b8-4048-9b6e-dec95b5a7fbf",
     "regions": {
      "e81b2aef-2db8-4906-8d5b-f8d8a8d2506f": {
       "attrs": {
        "height": 0.8,
        "width": 0.8,
        "x": 0.1,
        "y": 0.1
       },
       "content": {
        "cell": "514eb313-e6d6-4765-9cee-6aee821f8b76",
        "part": "whole"
       },
       "id": "e81b2aef-2db8-4906-8d5b-f8d8a8d2506f"
      }
     }
    },
    "4a8203c3-20b8-4048-9b6e-dec95b5a7fbf": {
     "id": "4a8203c3-20b8-4048-9b6e-dec95b5a7fbf",
     "prev": null,
     "regions": {
      "ef9d233f-a82b-4ec0-b7ff-eaf6667c2373": {
       "attrs": {
        "height": 0.8,
        "width": 0.8,
        "x": 0.1,
        "y": 0.1
       },
       "content": {
        "cell": "ef88d277-0ff2-4b79-a740-145e141484bd",
        "part": "whole"
       },
       "id": "ef9d233f-a82b-4ec0-b7ff-eaf6667c2373"
      }
     }
    },
    "4cbdf317-c4d4-4a6c-9ed2-bb23b4bf9924": {
     "id": "4cbdf317-c4d4-4a6c-9ed2-bb23b4bf9924",
     "prev": "05d64fa5-aa52-499f-8a6a-d605fac7e9d2",
     "regions": {
      "c2a2b3d8-190e-45ca-8879-6ef345780c1b": {
       "attrs": {
        "height": 0.8,
        "width": 0.8,
        "x": 0.1,
        "y": 0.1
       },
       "content": {
        "cell": "5c0dbfea-2592-4c5e-8cbf-28bb20177f89",
        "part": "whole"
       },
       "id": "c2a2b3d8-190e-45ca-8879-6ef345780c1b"
      }
     }
    },
    "5517d4a8-d4e1-42af-a537-7c336fc035c9": {
     "id": "5517d4a8-d4e1-42af-a537-7c336fc035c9",
     "prev": "f9d9ff46-4aae-4ad7-b8bb-47fecdf70091",
     "regions": {
      "aa820024-dd6a-4c90-a870-a162bee0c5fe": {
       "attrs": {
        "height": 0.8,
        "width": 0.8,
        "x": 0.1,
        "y": 0.1
       },
       "content": {
        "cell": "b86a2925-d62f-4847-b1f7-fa5608b59c11",
        "part": "whole"
       },
       "id": "aa820024-dd6a-4c90-a870-a162bee0c5fe"
      }
     }
    },
    "5bc08707-93f3-471c-9705-f3828ed56372": {
     "id": "5bc08707-93f3-471c-9705-f3828ed56372",
     "prev": "a80b4c44-6415-477e-b5ae-a338f9ec7d36",
     "regions": {
      "784e389b-9315-4c1a-a04d-154ed8906b8e": {
       "attrs": {
        "height": 0.8,
        "width": 0.8,
        "x": 0.1,
        "y": 0.1
       },
       "content": {
        "cell": "37cd587e-2264-42f9-b22f-7cc16cf53cf3",
        "part": "whole"
       },
       "id": "784e389b-9315-4c1a-a04d-154ed8906b8e"
      }
     }
    },
    "6d9e84e3-ef64-415d-8fce-086be4bdfe53": {
     "id": "6d9e84e3-ef64-415d-8fce-086be4bdfe53",
     "prev": "097f713a-04f9-4886-912a-bd39f1781fb5",
     "regions": {
      "b9d9a074-f684-4d00-bccf-f9385c1e6f99": {
       "attrs": {
        "height": 0.8,
        "width": 0.8,
        "x": 0.1,
        "y": 0.1
       },
       "content": {
        "cell": "40d776f9-9a31-43fd-ad47-946e0280ee99",
        "part": "whole"
       },
       "id": "b9d9a074-f684-4d00-bccf-f9385c1e6f99"
      }
     }
    },
    "6e4ed49b-1f68-4ce4-97a0-36b011923b32": {
     "id": "6e4ed49b-1f68-4ce4-97a0-36b011923b32",
     "prev": "90f43bb2-9840-43f3-a18c-a39fdc9d879d",
     "regions": {
      "98106570-9075-4426-a001-d80d900c4273": {
       "attrs": {
        "height": 0.8,
        "width": 0.8,
        "x": 0.1,
        "y": 0.1
       },
       "content": {
        "cell": "eefd54d0-aadd-42a1-81c0-ebbdf16b5924",
        "part": "whole"
       },
       "id": "98106570-9075-4426-a001-d80d900c4273"
      }
     }
    },
    "7765611f-3b0e-416f-9fb8-2fe0b21f1e22": {
     "id": "7765611f-3b0e-416f-9fb8-2fe0b21f1e22",
     "prev": "e9ff5d48-88e6-4b78-95d4-57edbe30e049",
     "regions": {
      "eeb55e36-5eea-44ed-ac7a-42eee8589cbf": {
       "attrs": {
        "height": 0.8,
        "width": 0.8,
        "x": 0.1,
        "y": 0.1
       },
       "content": {
        "cell": "77679da6-091d-4bb6-a9ac-50789e5939df",
        "part": "whole"
       },
       "id": "eeb55e36-5eea-44ed-ac7a-42eee8589cbf"
      }
     }
    },
    "7b186fd9-babf-43dc-8a2d-10e0495bd2b2": {
     "id": "7b186fd9-babf-43dc-8a2d-10e0495bd2b2",
     "prev": "2b276357-bdf8-457c-a22c-9ebfb25cb4db",
     "regions": {
      "10b6bc0f-6329-49c6-b64e-b998d916f1b6": {
       "attrs": {
        "height": 0.8,
        "width": 0.8,
        "x": 0.1,
        "y": 0.1
       },
       "content": {
        "cell": "5eb80d3a-8292-42f7-b899-6fe9755451d8",
        "part": "whole"
       },
       "id": "10b6bc0f-6329-49c6-b64e-b998d916f1b6"
      }
     }
    },
    "806f80c4-7f3d-4eca-bda4-041acab3ef5e": {
     "id": "806f80c4-7f3d-4eca-bda4-041acab3ef5e",
     "prev": "bd357957-bb68-45bd-b0e2-9df348912a92",
     "regions": {
      "98c6bd5a-9120-4a05-9e57-7095dabc5bb3": {
       "attrs": {
        "height": 0.8,
        "width": 0.8,
        "x": 0.1,
        "y": 0.1
       },
       "content": {
        "cell": "dd65b702-f17a-4de1-a548-08f07a1d8962",
        "part": "whole"
       },
       "id": "98c6bd5a-9120-4a05-9e57-7095dabc5bb3"
      }
     }
    },
    "90f43bb2-9840-43f3-a18c-a39fdc9d879d": {
     "id": "90f43bb2-9840-43f3-a18c-a39fdc9d879d",
     "prev": "bc46673d-2386-42fd-90ef-08e8ed27eefa",
     "regions": {
      "5fabd884-b6f3-4c91-9db6-54246760abe7": {
       "attrs": {
        "height": 0.8,
        "width": 0.8,
        "x": 0.1,
        "y": 0.1
       },
       "content": {
        "cell": "c69c0536-b3dd-4e8e-bd47-3d5d52fe5f89",
        "part": "whole"
       },
       "id": "5fabd884-b6f3-4c91-9db6-54246760abe7"
      }
     }
    },
    "a80b4c44-6415-477e-b5ae-a338f9ec7d36": {
     "id": "a80b4c44-6415-477e-b5ae-a338f9ec7d36",
     "prev": "f410f381-e83e-4b8e-b3b9-e8262c03f2e9",
     "regions": {
      "3bdf3391-9cb7-48a9-8b4e-cfc76a1ca5bb": {
       "attrs": {
        "height": 0.8,
        "width": 0.8,
        "x": 0.1,
        "y": 0.1
       },
       "content": {
        "cell": "99229de4-e0b4-4c20-bbcf-d623b776033b",
        "part": "whole"
       },
       "id": "3bdf3391-9cb7-48a9-8b4e-cfc76a1ca5bb"
      }
     }
    },
    "ab1935f5-94e1-43f7-9752-0429a653f194": {
     "id": "ab1935f5-94e1-43f7-9752-0429a653f194",
     "prev": "4cbdf317-c4d4-4a6c-9ed2-bb23b4bf9924",
     "regions": {
      "8446d2cb-5101-418f-8b5e-8d545f8a0a5c": {
       "attrs": {
        "height": 0.8,
        "width": 0.8,
        "x": 0.1,
        "y": 0.1
       },
       "content": {
        "cell": "6006af81-ab65-4dc3-ac87-2cdd675e6dbe",
        "part": "whole"
       },
       "id": "8446d2cb-5101-418f-8b5e-8d545f8a0a5c"
      }
     }
    },
    "bc46673d-2386-42fd-90ef-08e8ed27eefa": {
     "id": "bc46673d-2386-42fd-90ef-08e8ed27eefa",
     "prev": "37fa3324-7290-40d6-b0cb-a80b04ecbd25",
     "regions": {
      "329653c2-22ee-4aad-9f90-b969dc682a9e": {
       "attrs": {
        "height": 0.8,
        "width": 0.8,
        "x": 0.1,
        "y": 0.1
       },
       "content": {
        "cell": "d68b601e-7108-43e2-bb7b-dc372b96234e",
        "part": "whole"
       },
       "id": "329653c2-22ee-4aad-9f90-b969dc682a9e"
      }
     }
    },
    "bd357957-bb68-45bd-b0e2-9df348912a92": {
     "id": "bd357957-bb68-45bd-b0e2-9df348912a92",
     "prev": "6e4ed49b-1f68-4ce4-97a0-36b011923b32",
     "regions": {
      "d68e5686-cbea-4c80-bba8-9dbae1bb782c": {
       "attrs": {
        "height": 0.8,
        "width": 0.8,
        "x": 0.1,
        "y": 0.1
       },
       "content": {
        "cell": "63607cfb-1dd8-4a2c-a6e5-9a382f013a85",
        "part": "whole"
       },
       "id": "d68e5686-cbea-4c80-bba8-9dbae1bb782c"
      }
     }
    },
    "be44f2fe-b381-4084-81e0-5116b8e00825": {
     "id": "be44f2fe-b381-4084-81e0-5116b8e00825",
     "prev": "ab1935f5-94e1-43f7-9752-0429a653f194",
     "regions": {
      "2d02d06e-06be-4707-a910-236d3046d0d5": {
       "attrs": {
        "height": 0.8,
        "width": 0.8,
        "x": 0.1,
        "y": 0.1
       },
       "content": {
        "cell": "84da8a8c-e835-4542-80bf-9140d7988da7",
        "part": "whole"
       },
       "id": "2d02d06e-06be-4707-a910-236d3046d0d5"
      }
     }
    },
    "e82add74-35f1-491b-bdb1-41cbf1396a99": {
     "id": "e82add74-35f1-491b-bdb1-41cbf1396a99",
     "prev": "4144e21a-fd73-42ed-8bfa-814c119fe8c2",
     "regions": {
      "92bb10fe-8cdf-4ca9-9518-67b12e9ec924": {
       "attrs": {
        "height": 0.8,
        "width": 0.8,
        "x": 0.1,
        "y": 0.1
       },
       "content": {
        "cell": "f09afb09-da84-4847-ab67-fdba2e19ce99",
        "part": "whole"
       },
       "id": "92bb10fe-8cdf-4ca9-9518-67b12e9ec924"
      }
     }
    },
    "e9ff5d48-88e6-4b78-95d4-57edbe30e049": {
     "id": "e9ff5d48-88e6-4b78-95d4-57edbe30e049",
     "prev": "806f80c4-7f3d-4eca-bda4-041acab3ef5e",
     "regions": {
      "218e29aa-d956-4a6a-a2fb-ac7b466e314d": {
       "attrs": {
        "height": 0.8,
        "width": 0.8,
        "x": 0.1,
        "y": 0.1
       },
       "content": {
        "cell": "005db26b-ec68-40a4-ad85-642131d4f112",
        "part": "whole"
       },
       "id": "218e29aa-d956-4a6a-a2fb-ac7b466e314d"
      }
     }
    },
    "efbc5b7e-3234-4fc9-b2ae-bb144ba69635": {
     "id": "efbc5b7e-3234-4fc9-b2ae-bb144ba69635",
     "prev": "3b095c0a-62db-4d13-9230-d5e619bb7e3d",
     "regions": {
      "402f4029-b0e0-4a14-9770-ab5cf7a91dfe": {
       "attrs": {
        "height": 0.8,
        "width": 0.8,
        "x": 0.1,
        "y": 0.1
       },
       "content": {
        "cell": "46bf3bd6-281e-4f9b-bfe5-b85a0b86b9be",
        "part": "whole"
       },
       "id": "402f4029-b0e0-4a14-9770-ab5cf7a91dfe"
      }
     }
    },
    "f410f381-e83e-4b8e-b3b9-e8262c03f2e9": {
     "id": "f410f381-e83e-4b8e-b3b9-e8262c03f2e9",
     "prev": "be44f2fe-b381-4084-81e0-5116b8e00825",
     "regions": {
      "64aca4ef-342d-449e-9bc8-ae40439b2e16": {
       "attrs": {
        "height": 0.8,
        "width": 0.8,
        "x": 0.1,
        "y": 0.1
       },
       "content": {
        "cell": "3539961d-ff45-48fb-91da-a156c5ef2ad2",
        "part": "whole"
       },
       "id": "64aca4ef-342d-449e-9bc8-ae40439b2e16"
      }
     }
    },
    "f9d9ff46-4aae-4ad7-b8bb-47fecdf70091": {
     "id": "f9d9ff46-4aae-4ad7-b8bb-47fecdf70091",
     "prev": "7765611f-3b0e-416f-9fb8-2fe0b21f1e22",
     "regions": {
      "e7e122be-675e-46ce-ad80-570607073e1d": {
       "attrs": {
        "height": 0.8,
        "width": 0.8,
        "x": 0.1,
        "y": 0.1
       },
       "content": {
        "cell": "5769818d-9749-42d3-a0c5-84af9cf43bbc",
        "part": "whole"
       },
       "id": "e7e122be-675e-46ce-ad80-570607073e1d"
      }
     }
    }
   },
   "themes": {
    "default": "c38f0e52-094a-424d-839f-7e3eb3502a2d",
    "theme": {}
   }
  }
 },
 "nbformat": 4,
 "nbformat_minor": 1
}
